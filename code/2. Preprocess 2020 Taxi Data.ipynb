{
 "cells": [
  {
   "cell_type": "code",
   "execution_count": 1,
   "id": "95bd975f",
   "metadata": {},
   "outputs": [],
   "source": [
    "import pandas as pd\n",
    "import numpy as np\n",
    "import seaborn as sns\n",
    "import matplotlib.pyplot as plt\n",
    "import shapefile\n",
    "\n",
    "# a nice way of filtering out deprecated warnings\n",
    "import warnings\n",
    "warnings.filterwarnings(\"ignore\")"
   ]
  },
  {
   "cell_type": "markdown",
   "id": "a4c9f8e6",
   "metadata": {},
   "source": [
    "# Spark"
   ]
  },
  {
   "cell_type": "code",
   "execution_count": 2,
   "id": "04524310",
   "metadata": {},
   "outputs": [
    {
     "name": "stderr",
     "output_type": "stream",
     "text": [
      "21/08/15 02:22:17 WARN Utils: Your hostname, LIVIA resolves to a loopback address: 127.0.1.1; using 172.22.214.215 instead (on interface eth0)\n",
      "21/08/15 02:22:17 WARN Utils: Set SPARK_LOCAL_IP if you need to bind to another address\n",
      "21/08/15 02:22:18 WARN NativeCodeLoader: Unable to load native-hadoop library for your platform... using builtin-java classes where applicable\n",
      "Using Spark's default log4j profile: org/apache/spark/log4j-defaults.properties\n",
      "Setting default log level to \"WARN\".\n",
      "To adjust logging level use sc.setLogLevel(newLevel). For SparkR, use setLogLevel(newLevel).\n"
     ]
    }
   ],
   "source": [
    "from pyspark.sql import SparkSession\n",
    "import warnings\n",
    "warnings.filterwarnings(\"ignore\")\n",
    "\n",
    "# create a spark session (which will run spark jobs)\n",
    "spark = SparkSession.builder.getOrCreate()"
   ]
  },
  {
   "cell_type": "markdown",
   "id": "86c17b92",
   "metadata": {},
   "source": [
    "### Import CSV from January 2020 to March 2020"
   ]
  },
  {
   "cell_type": "code",
   "execution_count": 3,
   "id": "5fa5b412",
   "metadata": {},
   "outputs": [
    {
     "name": "stderr",
     "output_type": "stream",
     "text": [
      "                                                                                \r"
     ]
    },
    {
     "data": {
      "text/plain": [
       "'15,711,654 rows.'"
      ]
     },
     "execution_count": 3,
     "metadata": {},
     "output_type": "execute_result"
    }
   ],
   "source": [
    "spark.conf.set('spark.sql.execution.arrow.pyspark.enabled', True)\n",
    "\n",
    "sdf = spark.read.csv('../data/yellow_tripdata_2020-0[1-3].csv', header=True)\n",
    "\n",
    "f\"{sdf.count():,} rows.\""
   ]
  },
  {
   "cell_type": "code",
   "execution_count": 4,
   "id": "8248b6de",
   "metadata": {},
   "outputs": [
    {
     "data": {
      "text/html": [
       "<table border='1'>\n",
       "<tr><th>VendorID</th><th>tpep_pickup_datetime</th><th>tpep_dropoff_datetime</th><th>passenger_count</th><th>trip_distance</th><th>RatecodeID</th><th>store_and_fwd_flag</th><th>PULocationID</th><th>DOLocationID</th><th>payment_type</th><th>fare_amount</th><th>extra</th><th>mta_tax</th><th>tip_amount</th><th>tolls_amount</th><th>improvement_surcharge</th><th>total_amount</th><th>congestion_surcharge</th></tr>\n",
       "<tr><td>1</td><td>2020-01-01 00:28:15</td><td>2020-01-01 00:33:03</td><td>1</td><td>1.20</td><td>1</td><td>N</td><td>238</td><td>239</td><td>1</td><td>6</td><td>3</td><td>0.5</td><td>1.47</td><td>0</td><td>0.3</td><td>11.27</td><td>2.5</td></tr>\n",
       "<tr><td>1</td><td>2020-01-01 00:35:39</td><td>2020-01-01 00:43:04</td><td>1</td><td>1.20</td><td>1</td><td>N</td><td>239</td><td>238</td><td>1</td><td>7</td><td>3</td><td>0.5</td><td>1.5</td><td>0</td><td>0.3</td><td>12.3</td><td>2.5</td></tr>\n",
       "<tr><td>1</td><td>2020-01-01 00:47:41</td><td>2020-01-01 00:53:52</td><td>1</td><td>.60</td><td>1</td><td>N</td><td>238</td><td>238</td><td>1</td><td>6</td><td>3</td><td>0.5</td><td>1</td><td>0</td><td>0.3</td><td>10.8</td><td>2.5</td></tr>\n",
       "<tr><td>1</td><td>2020-01-01 00:55:23</td><td>2020-01-01 01:00:14</td><td>1</td><td>.80</td><td>1</td><td>N</td><td>238</td><td>151</td><td>1</td><td>5.5</td><td>0.5</td><td>0.5</td><td>1.36</td><td>0</td><td>0.3</td><td>8.16</td><td>0</td></tr>\n",
       "<tr><td>2</td><td>2020-01-01 00:01:58</td><td>2020-01-01 00:04:16</td><td>1</td><td>.00</td><td>1</td><td>N</td><td>193</td><td>193</td><td>2</td><td>3.5</td><td>0.5</td><td>0.5</td><td>0</td><td>0</td><td>0.3</td><td>4.8</td><td>0</td></tr>\n",
       "</table>\n"
      ],
      "text/plain": [
       "+--------+--------------------+---------------------+---------------+-------------+----------+------------------+------------+------------+------------+-----------+-----+-------+----------+------------+---------------------+------------+--------------------+\n",
       "|VendorID|tpep_pickup_datetime|tpep_dropoff_datetime|passenger_count|trip_distance|RatecodeID|store_and_fwd_flag|PULocationID|DOLocationID|payment_type|fare_amount|extra|mta_tax|tip_amount|tolls_amount|improvement_surcharge|total_amount|congestion_surcharge|\n",
       "+--------+--------------------+---------------------+---------------+-------------+----------+------------------+------------+------------+------------+-----------+-----+-------+----------+------------+---------------------+------------+--------------------+\n",
       "|       1| 2020-01-01 00:28:15|  2020-01-01 00:33:03|              1|         1.20|         1|                 N|         238|         239|           1|          6|    3|    0.5|      1.47|           0|                  0.3|       11.27|                 2.5|\n",
       "|       1| 2020-01-01 00:35:39|  2020-01-01 00:43:04|              1|         1.20|         1|                 N|         239|         238|           1|          7|    3|    0.5|       1.5|           0|                  0.3|        12.3|                 2.5|\n",
       "|       1| 2020-01-01 00:47:41|  2020-01-01 00:53:52|              1|          .60|         1|                 N|         238|         238|           1|          6|    3|    0.5|         1|           0|                  0.3|        10.8|                 2.5|\n",
       "|       1| 2020-01-01 00:55:23|  2020-01-01 01:00:14|              1|          .80|         1|                 N|         238|         151|           1|        5.5|  0.5|    0.5|      1.36|           0|                  0.3|        8.16|                   0|\n",
       "|       2| 2020-01-01 00:01:58|  2020-01-01 00:04:16|              1|          .00|         1|                 N|         193|         193|           2|        3.5|  0.5|    0.5|         0|           0|                  0.3|         4.8|                   0|\n",
       "+--------+--------------------+---------------------+---------------+-------------+----------+------------------+------------+------------+------------+-----------+-----+-------+----------+------------+---------------------+------------+--------------------+"
      ]
     },
     "execution_count": 4,
     "metadata": {},
     "output_type": "execute_result"
    }
   ],
   "source": [
    "spark.conf.set('spark.sql.repl.eagerEval.enabled', True)\n",
    "sdf.limit(5)"
   ]
  },
  {
   "cell_type": "markdown",
   "id": "9ce33faa",
   "metadata": {},
   "source": [
    "## Create a Schema"
   ]
  },
  {
   "cell_type": "code",
   "execution_count": 5,
   "id": "2da5b7a3",
   "metadata": {},
   "outputs": [],
   "source": [
    "import pyspark.sql.functions as F\n",
    "\n",
    "from pyspark.sql.types import *\n",
    "from pyspark.sql.functions import col"
   ]
  },
  {
   "cell_type": "code",
   "execution_count": 6,
   "id": "1cde6c7e",
   "metadata": {},
   "outputs": [],
   "source": [
    "ints = ('VendorID', 'passenger_count', 'RatecodeID', \n",
    "        'PULocationID', 'DOLocationID', 'payment_type', )\n",
    "doubles = ('trip_distance', 'fare_amount', 'extra', \n",
    "           'mta_tax', 'tip_amount', 'tolls_amount', \n",
    "           'improvement_surcharge', 'total_amount', 'congestion_surcharge')\n",
    "strings = ('store_and_fwd_flag',)\n",
    "dtimes = ('tpep_pickup_datetime', 'tpep_dropoff_datetime', )\n",
    "\n",
    "dtypes = {column: IntegerType() for column in ints}\n",
    "dtypes.update({column: DoubleType() for column in doubles})\n",
    "dtypes.update({column: StringType() for column in strings})\n",
    "dtypes.update({column: TimestampType() for column in dtimes})"
   ]
  },
  {
   "cell_type": "code",
   "execution_count": 7,
   "id": "fcca9ccd",
   "metadata": {},
   "outputs": [],
   "source": [
    "schema = StructType()\n",
    "\n",
    "for column in sdf.columns:\n",
    "    schema.add(column, # column name\n",
    "               dtypes[column], # data type\n",
    "               True # is nullable?\n",
    "              )"
   ]
  },
  {
   "cell_type": "code",
   "execution_count": 8,
   "id": "06300056",
   "metadata": {},
   "outputs": [
    {
     "name": "stderr",
     "output_type": "stream",
     "text": [
      "                                                                                \r"
     ]
    },
    {
     "data": {
      "text/plain": [
       "'15,711,654 rows.'"
      ]
     },
     "execution_count": 8,
     "metadata": {},
     "output_type": "execute_result"
    }
   ],
   "source": [
    "spark.conf.set('spark.sql.execution.arrow.pyspark.enabled', True)\n",
    "\n",
    "sdf = spark.read.csv('../data/yellow_tripdata_2020-0[1-3].csv', header=True, schema=schema)\n",
    "\n",
    "f\"{sdf.count():,} rows.\""
   ]
  },
  {
   "cell_type": "code",
   "execution_count": 9,
   "id": "ff37bafe",
   "metadata": {},
   "outputs": [
    {
     "name": "stdout",
     "output_type": "stream",
     "text": [
      "root\n",
      " |-- VendorID: integer (nullable = true)\n",
      " |-- tpep_pickup_datetime: timestamp (nullable = true)\n",
      " |-- tpep_dropoff_datetime: timestamp (nullable = true)\n",
      " |-- passenger_count: integer (nullable = true)\n",
      " |-- trip_distance: double (nullable = true)\n",
      " |-- RatecodeID: integer (nullable = true)\n",
      " |-- store_and_fwd_flag: string (nullable = true)\n",
      " |-- PULocationID: integer (nullable = true)\n",
      " |-- DOLocationID: integer (nullable = true)\n",
      " |-- payment_type: integer (nullable = true)\n",
      " |-- fare_amount: double (nullable = true)\n",
      " |-- extra: double (nullable = true)\n",
      " |-- mta_tax: double (nullable = true)\n",
      " |-- tip_amount: double (nullable = true)\n",
      " |-- tolls_amount: double (nullable = true)\n",
      " |-- improvement_surcharge: double (nullable = true)\n",
      " |-- total_amount: double (nullable = true)\n",
      " |-- congestion_surcharge: double (nullable = true)\n",
      "\n"
     ]
    }
   ],
   "source": [
    "sdf.printSchema()"
   ]
  },
  {
   "cell_type": "code",
   "execution_count": 10,
   "id": "48c145e7",
   "metadata": {},
   "outputs": [
    {
     "data": {
      "text/html": [
       "<table border='1'>\n",
       "<tr><th>VendorID</th><th>tpep_pickup_datetime</th><th>tpep_dropoff_datetime</th><th>passenger_count</th><th>trip_distance</th><th>RatecodeID</th><th>store_and_fwd_flag</th><th>PULocationID</th><th>DOLocationID</th><th>payment_type</th><th>fare_amount</th><th>extra</th><th>mta_tax</th><th>tip_amount</th><th>tolls_amount</th><th>improvement_surcharge</th><th>total_amount</th><th>congestion_surcharge</th></tr>\n",
       "<tr><td>1</td><td>2020-01-01 00:28:15</td><td>2020-01-01 00:33:03</td><td>1</td><td>1.2</td><td>1</td><td>N</td><td>238</td><td>239</td><td>1</td><td>6.0</td><td>3.0</td><td>0.5</td><td>1.47</td><td>0.0</td><td>0.3</td><td>11.27</td><td>2.5</td></tr>\n",
       "<tr><td>1</td><td>2020-01-01 00:35:39</td><td>2020-01-01 00:43:04</td><td>1</td><td>1.2</td><td>1</td><td>N</td><td>239</td><td>238</td><td>1</td><td>7.0</td><td>3.0</td><td>0.5</td><td>1.5</td><td>0.0</td><td>0.3</td><td>12.3</td><td>2.5</td></tr>\n",
       "<tr><td>1</td><td>2020-01-01 00:47:41</td><td>2020-01-01 00:53:52</td><td>1</td><td>0.6</td><td>1</td><td>N</td><td>238</td><td>238</td><td>1</td><td>6.0</td><td>3.0</td><td>0.5</td><td>1.0</td><td>0.0</td><td>0.3</td><td>10.8</td><td>2.5</td></tr>\n",
       "<tr><td>1</td><td>2020-01-01 00:55:23</td><td>2020-01-01 01:00:14</td><td>1</td><td>0.8</td><td>1</td><td>N</td><td>238</td><td>151</td><td>1</td><td>5.5</td><td>0.5</td><td>0.5</td><td>1.36</td><td>0.0</td><td>0.3</td><td>8.16</td><td>0.0</td></tr>\n",
       "<tr><td>2</td><td>2020-01-01 00:01:58</td><td>2020-01-01 00:04:16</td><td>1</td><td>0.0</td><td>1</td><td>N</td><td>193</td><td>193</td><td>2</td><td>3.5</td><td>0.5</td><td>0.5</td><td>0.0</td><td>0.0</td><td>0.3</td><td>4.8</td><td>0.0</td></tr>\n",
       "</table>\n"
      ],
      "text/plain": [
       "+--------+--------------------+---------------------+---------------+-------------+----------+------------------+------------+------------+------------+-----------+-----+-------+----------+------------+---------------------+------------+--------------------+\n",
       "|VendorID|tpep_pickup_datetime|tpep_dropoff_datetime|passenger_count|trip_distance|RatecodeID|store_and_fwd_flag|PULocationID|DOLocationID|payment_type|fare_amount|extra|mta_tax|tip_amount|tolls_amount|improvement_surcharge|total_amount|congestion_surcharge|\n",
       "+--------+--------------------+---------------------+---------------+-------------+----------+------------------+------------+------------+------------+-----------+-----+-------+----------+------------+---------------------+------------+--------------------+\n",
       "|       1| 2020-01-01 00:28:15|  2020-01-01 00:33:03|              1|          1.2|         1|                 N|         238|         239|           1|        6.0|  3.0|    0.5|      1.47|         0.0|                  0.3|       11.27|                 2.5|\n",
       "|       1| 2020-01-01 00:35:39|  2020-01-01 00:43:04|              1|          1.2|         1|                 N|         239|         238|           1|        7.0|  3.0|    0.5|       1.5|         0.0|                  0.3|        12.3|                 2.5|\n",
       "|       1| 2020-01-01 00:47:41|  2020-01-01 00:53:52|              1|          0.6|         1|                 N|         238|         238|           1|        6.0|  3.0|    0.5|       1.0|         0.0|                  0.3|        10.8|                 2.5|\n",
       "|       1| 2020-01-01 00:55:23|  2020-01-01 01:00:14|              1|          0.8|         1|                 N|         238|         151|           1|        5.5|  0.5|    0.5|      1.36|         0.0|                  0.3|        8.16|                 0.0|\n",
       "|       2| 2020-01-01 00:01:58|  2020-01-01 00:04:16|              1|          0.0|         1|                 N|         193|         193|           2|        3.5|  0.5|    0.5|       0.0|         0.0|                  0.3|         4.8|                 0.0|\n",
       "+--------+--------------------+---------------------+---------------+-------------+----------+------------------+------------+------------+------------+-----------+-----+-------+----------+------------+---------------------+------------+--------------------+"
      ]
     },
     "execution_count": 10,
     "metadata": {},
     "output_type": "execute_result"
    }
   ],
   "source": [
    "spark.conf.set('spark.sql.repl.eagerEval.enabled', True)\n",
    "sdf.limit(5)"
   ]
  },
  {
   "cell_type": "markdown",
   "id": "c710abc6",
   "metadata": {},
   "source": [
    "## Cleaning the Data"
   ]
  },
  {
   "cell_type": "markdown",
   "id": "927bca60",
   "metadata": {},
   "source": [
    "### Initial Cleaning"
   ]
  },
  {
   "cell_type": "markdown",
   "id": "2d5a867c",
   "metadata": {},
   "source": [
    "Find trips that are happening in 2020 and ensure that the pickup time is before the dropoff time"
   ]
  },
  {
   "cell_type": "code",
   "execution_count": 11,
   "id": "2b6d151f",
   "metadata": {},
   "outputs": [],
   "source": [
    "sdf = sdf.filter((sdf.tpep_pickup_datetime.startswith('2020')) \n",
    "                 & (sdf.tpep_dropoff_datetime.startswith('2020')))\n",
    "\n",
    "sdf = sdf.filter(sdf.tpep_dropoff_datetime > sdf.tpep_pickup_datetime)"
   ]
  },
  {
   "cell_type": "markdown",
   "id": "cad87a99",
   "metadata": {},
   "source": [
    "Ensure all trips are not empty within and the maximum passenger count (5)"
   ]
  },
  {
   "cell_type": "code",
   "execution_count": 12,
   "id": "94417350",
   "metadata": {},
   "outputs": [],
   "source": [
    "sdf = sdf.filter(sdf.passenger_count > 0)\n",
    "\n",
    "sdf = sdf.filter(sdf.passenger_count < 6)"
   ]
  },
  {
   "cell_type": "markdown",
   "id": "3b87e9ef",
   "metadata": {},
   "source": [
    "Ensure all trips are within the minimum fare ($2.5)"
   ]
  },
  {
   "cell_type": "code",
   "execution_count": 13,
   "id": "61e92743",
   "metadata": {},
   "outputs": [],
   "source": [
    "sdf = sdf.filter(sdf.fare_amount > 2.5)"
   ]
  },
  {
   "cell_type": "markdown",
   "id": "b7de1331",
   "metadata": {},
   "source": [
    "Ensure the trip distance is more than 0.1"
   ]
  },
  {
   "cell_type": "code",
   "execution_count": 14,
   "id": "3599939f",
   "metadata": {},
   "outputs": [],
   "source": [
    "sdf = sdf.filter((sdf.trip_distance > 0.1))"
   ]
  },
  {
   "cell_type": "markdown",
   "id": "276a5d52",
   "metadata": {},
   "source": [
    "Find trips paid by credit card (1) and unknown (5)"
   ]
  },
  {
   "cell_type": "code",
   "execution_count": 15,
   "id": "a0d09860",
   "metadata": {},
   "outputs": [],
   "source": [
    "payment_id = [1, 5]\n",
    "sdf = sdf.filter(F.col(\"payment_type\").isin(payment_id))"
   ]
  },
  {
   "cell_type": "markdown",
   "id": "d2049cd0",
   "metadata": {},
   "source": [
    "Remove trips with unknown location ID (location ID 264 and 265 are unknown location)"
   ]
  },
  {
   "cell_type": "code",
   "execution_count": 16,
   "id": "6d9ae66b",
   "metadata": {},
   "outputs": [],
   "source": [
    "sdf = sdf.filter((sdf.PULocationID < 264))\n",
    "sdf = sdf.filter((sdf.DOLocationID < 264))"
   ]
  },
  {
   "cell_type": "code",
   "execution_count": 17,
   "id": "6dabcf4c",
   "metadata": {},
   "outputs": [],
   "source": [
    "# Add duration per second for each record\n",
    "diff_hour_col = (col(\"tpep_dropoff_datetime\").cast(\"long\") - col(\"tpep_pickup_datetime\").cast(\"long\"))/3600\n",
    "sdf = sdf.withColumn( \"diff_hour\", diff_hour_col )\n",
    "\n",
    "# Remove trips less than a minute and more than 10 hours\n",
    "\n",
    "sdf = sdf.filter(sdf.diff_hour <= 10)\n",
    "sdf = sdf.filter(sdf.diff_hour > (1/60))"
   ]
  },
  {
   "cell_type": "code",
   "execution_count": 18,
   "id": "995fbcd5",
   "metadata": {},
   "outputs": [],
   "source": [
    "tip_pct_col = ((col(\"tip_amount\") / col(\"total_amount\"))*100)\n",
    "sdf = sdf.withColumn(\"tip_pct\", tip_pct_col)"
   ]
  },
  {
   "cell_type": "code",
   "execution_count": 19,
   "id": "cb685ce9",
   "metadata": {},
   "outputs": [
    {
     "data": {
      "text/html": [
       "<table border='1'>\n",
       "<tr><th>VendorID</th><th>tpep_pickup_datetime</th><th>tpep_dropoff_datetime</th><th>passenger_count</th><th>trip_distance</th><th>RatecodeID</th><th>store_and_fwd_flag</th><th>PULocationID</th><th>DOLocationID</th><th>payment_type</th><th>fare_amount</th><th>extra</th><th>mta_tax</th><th>tip_amount</th><th>tolls_amount</th><th>improvement_surcharge</th><th>total_amount</th><th>congestion_surcharge</th><th>diff_hour</th><th>tip_pct</th></tr>\n",
       "<tr><td>1</td><td>2020-01-01 00:28:15</td><td>2020-01-01 00:33:03</td><td>1</td><td>1.2</td><td>1</td><td>N</td><td>238</td><td>239</td><td>1</td><td>6.0</td><td>3.0</td><td>0.5</td><td>1.47</td><td>0.0</td><td>0.3</td><td>11.27</td><td>2.5</td><td>0.08</td><td>0.13043478260869565</td></tr>\n",
       "</table>\n"
      ],
      "text/plain": [
       "+--------+--------------------+---------------------+---------------+-------------+----------+------------------+------------+------------+------------+-----------+-----+-------+----------+------------+---------------------+------------+--------------------+---------+-------------------+\n",
       "|VendorID|tpep_pickup_datetime|tpep_dropoff_datetime|passenger_count|trip_distance|RatecodeID|store_and_fwd_flag|PULocationID|DOLocationID|payment_type|fare_amount|extra|mta_tax|tip_amount|tolls_amount|improvement_surcharge|total_amount|congestion_surcharge|diff_hour|            tip_pct|\n",
       "+--------+--------------------+---------------------+---------------+-------------+----------+------------------+------------+------------+------------+-----------+-----+-------+----------+------------+---------------------+------------+--------------------+---------+-------------------+\n",
       "|       1| 2020-01-01 00:28:15|  2020-01-01 00:33:03|              1|          1.2|         1|                 N|         238|         239|           1|        6.0|  3.0|    0.5|      1.47|         0.0|                  0.3|       11.27|                 2.5|     0.08|0.13043478260869565|\n",
       "+--------+--------------------+---------------------+---------------+-------------+----------+------------------+------------+------------+------------+-----------+-----+-------+----------+------------+---------------------+------------+--------------------+---------+-------------------+"
      ]
     },
     "execution_count": 19,
     "metadata": {},
     "output_type": "execute_result"
    }
   ],
   "source": [
    "sdf.limit(1)"
   ]
  },
  {
   "cell_type": "markdown",
   "id": "8e345312",
   "metadata": {},
   "source": [
    "After initial cleaning, we have:"
   ]
  },
  {
   "cell_type": "code",
   "execution_count": 35,
   "id": "af9d7194",
   "metadata": {},
   "outputs": [
    {
     "name": "stderr",
     "output_type": "stream",
     "text": [
      "                                                                                \r"
     ]
    },
    {
     "data": {
      "text/plain": [
       "'10,916,614 rows.'"
      ]
     },
     "execution_count": 35,
     "metadata": {},
     "output_type": "execute_result"
    }
   ],
   "source": [
    "f\"{sdf.count():,} rows.\""
   ]
  },
  {
   "cell_type": "markdown",
   "id": "24c4a13a",
   "metadata": {},
   "source": [
    "### Adding columns for hour, month, and day_of_week"
   ]
  },
  {
   "cell_type": "markdown",
   "id": "98d40baa",
   "metadata": {},
   "source": [
    "NOTE: for day_of week --> 1 - Sunday, 2 - Monday, 3 - Tuesday, etc"
   ]
  },
  {
   "cell_type": "code",
   "execution_count": null,
   "id": "fc838b5f",
   "metadata": {},
   "outputs": [],
   "source": [
    "small = sdf.limit(50)"
   ]
  },
  {
   "cell_type": "code",
   "execution_count": 20,
   "id": "5a02d4ab",
   "metadata": {},
   "outputs": [],
   "source": [
    "sdf = sdf.withColumn('pickup_month', F.month(sdf.tpep_pickup_datetime))\n",
    "sdf = sdf.withColumn('pickup_day_of_week', F.dayofweek(sdf.tpep_pickup_datetime))\n",
    "sdf = sdf.withColumn('pickup_hour', F.hour(sdf.tpep_pickup_datetime))\n",
    "\n",
    "sdf = sdf.withColumn('dropoff_month', F.month(sdf.tpep_dropoff_datetime))\n",
    "sdf = sdf.withColumn('dropoff_day_of_week', F.dayofweek(sdf.tpep_dropoff_datetime))\n",
    "sdf = sdf.withColumn('dropoff_hour', F.hour(sdf.tpep_dropoff_datetime))"
   ]
  },
  {
   "cell_type": "code",
   "execution_count": 21,
   "id": "b96ce172",
   "metadata": {},
   "outputs": [
    {
     "name": "stderr",
     "output_type": "stream",
     "text": [
      "21/08/15 02:24:55 WARN package: Truncated the string representation of a plan since it was too large. This behavior can be adjusted by setting 'spark.sql.debug.maxToStringFields'.\n"
     ]
    },
    {
     "data": {
      "text/html": [
       "<table border='1'>\n",
       "<tr><th>VendorID</th><th>tpep_pickup_datetime</th><th>tpep_dropoff_datetime</th><th>passenger_count</th><th>trip_distance</th><th>RatecodeID</th><th>store_and_fwd_flag</th><th>PULocationID</th><th>DOLocationID</th><th>payment_type</th><th>fare_amount</th><th>extra</th><th>mta_tax</th><th>tip_amount</th><th>tolls_amount</th><th>improvement_surcharge</th><th>total_amount</th><th>congestion_surcharge</th><th>diff_hour</th><th>tip_pct</th><th>pickup_month</th><th>pickup_day_of_week</th><th>pickup_hour</th><th>dropoff_month</th><th>dropoff_day_of_week</th><th>dropoff_hour</th></tr>\n",
       "<tr><td>1</td><td>2020-01-01 00:28:15</td><td>2020-01-01 00:33:03</td><td>1</td><td>1.2</td><td>1</td><td>N</td><td>238</td><td>239</td><td>1</td><td>6.0</td><td>3.0</td><td>0.5</td><td>1.47</td><td>0.0</td><td>0.3</td><td>11.27</td><td>2.5</td><td>0.08</td><td>0.13043478260869565</td><td>1</td><td>4</td><td>0</td><td>1</td><td>4</td><td>0</td></tr>\n",
       "<tr><td>1</td><td>2020-01-01 00:35:39</td><td>2020-01-01 00:43:04</td><td>1</td><td>1.2</td><td>1</td><td>N</td><td>239</td><td>238</td><td>1</td><td>7.0</td><td>3.0</td><td>0.5</td><td>1.5</td><td>0.0</td><td>0.3</td><td>12.3</td><td>2.5</td><td>0.12361111111111112</td><td>0.12195121951219512</td><td>1</td><td>4</td><td>0</td><td>1</td><td>4</td><td>0</td></tr>\n",
       "<tr><td>1</td><td>2020-01-01 00:47:41</td><td>2020-01-01 00:53:52</td><td>1</td><td>0.6</td><td>1</td><td>N</td><td>238</td><td>238</td><td>1</td><td>6.0</td><td>3.0</td><td>0.5</td><td>1.0</td><td>0.0</td><td>0.3</td><td>10.8</td><td>2.5</td><td>0.10305555555555555</td><td>0.09259259259259259</td><td>1</td><td>4</td><td>0</td><td>1</td><td>4</td><td>0</td></tr>\n",
       "<tr><td>1</td><td>2020-01-01 00:55:23</td><td>2020-01-01 01:00:14</td><td>1</td><td>0.8</td><td>1</td><td>N</td><td>238</td><td>151</td><td>1</td><td>5.5</td><td>0.5</td><td>0.5</td><td>1.36</td><td>0.0</td><td>0.3</td><td>8.16</td><td>0.0</td><td>0.08083333333333333</td><td>0.16666666666666669</td><td>1</td><td>4</td><td>0</td><td>1</td><td>4</td><td>1</td></tr>\n",
       "<tr><td>1</td><td>2020-01-01 00:29:01</td><td>2020-01-01 00:40:28</td><td>2</td><td>0.7</td><td>1</td><td>N</td><td>246</td><td>48</td><td>1</td><td>8.0</td><td>3.0</td><td>0.5</td><td>2.35</td><td>0.0</td><td>0.3</td><td>14.15</td><td>2.5</td><td>0.19083333333333333</td><td>0.16607773851590107</td><td>1</td><td>4</td><td>0</td><td>1</td><td>4</td><td>0</td></tr>\n",
       "</table>\n"
      ],
      "text/plain": [
       "+--------+--------------------+---------------------+---------------+-------------+----------+------------------+------------+------------+------------+-----------+-----+-------+----------+------------+---------------------+------------+--------------------+-------------------+-------------------+------------+------------------+-----------+-------------+-------------------+------------+\n",
       "|VendorID|tpep_pickup_datetime|tpep_dropoff_datetime|passenger_count|trip_distance|RatecodeID|store_and_fwd_flag|PULocationID|DOLocationID|payment_type|fare_amount|extra|mta_tax|tip_amount|tolls_amount|improvement_surcharge|total_amount|congestion_surcharge|          diff_hour|            tip_pct|pickup_month|pickup_day_of_week|pickup_hour|dropoff_month|dropoff_day_of_week|dropoff_hour|\n",
       "+--------+--------------------+---------------------+---------------+-------------+----------+------------------+------------+------------+------------+-----------+-----+-------+----------+------------+---------------------+------------+--------------------+-------------------+-------------------+------------+------------------+-----------+-------------+-------------------+------------+\n",
       "|       1| 2020-01-01 00:28:15|  2020-01-01 00:33:03|              1|          1.2|         1|                 N|         238|         239|           1|        6.0|  3.0|    0.5|      1.47|         0.0|                  0.3|       11.27|                 2.5|               0.08|0.13043478260869565|           1|                 4|          0|            1|                  4|           0|\n",
       "|       1| 2020-01-01 00:35:39|  2020-01-01 00:43:04|              1|          1.2|         1|                 N|         239|         238|           1|        7.0|  3.0|    0.5|       1.5|         0.0|                  0.3|        12.3|                 2.5|0.12361111111111112|0.12195121951219512|           1|                 4|          0|            1|                  4|           0|\n",
       "|       1| 2020-01-01 00:47:41|  2020-01-01 00:53:52|              1|          0.6|         1|                 N|         238|         238|           1|        6.0|  3.0|    0.5|       1.0|         0.0|                  0.3|        10.8|                 2.5|0.10305555555555555|0.09259259259259259|           1|                 4|          0|            1|                  4|           0|\n",
       "|       1| 2020-01-01 00:55:23|  2020-01-01 01:00:14|              1|          0.8|         1|                 N|         238|         151|           1|        5.5|  0.5|    0.5|      1.36|         0.0|                  0.3|        8.16|                 0.0|0.08083333333333333|0.16666666666666669|           1|                 4|          0|            1|                  4|           1|\n",
       "|       1| 2020-01-01 00:29:01|  2020-01-01 00:40:28|              2|          0.7|         1|                 N|         246|          48|           1|        8.0|  3.0|    0.5|      2.35|         0.0|                  0.3|       14.15|                 2.5|0.19083333333333333|0.16607773851590107|           1|                 4|          0|            1|                  4|           0|\n",
       "+--------+--------------------+---------------------+---------------+-------------+----------+------------------+------------+------------+------------+-----------+-----+-------+----------+------------+---------------------+------------+--------------------+-------------------+-------------------+------------+------------------+-----------+-------------+-------------------+------------+"
      ]
     },
     "execution_count": 21,
     "metadata": {},
     "output_type": "execute_result"
    }
   ],
   "source": [
    "sdf.limit(5)"
   ]
  },
  {
   "cell_type": "markdown",
   "id": "54457e51",
   "metadata": {},
   "source": [
    "## Dropping Columns"
   ]
  },
  {
   "cell_type": "code",
   "execution_count": null,
   "id": "045d58d3",
   "metadata": {},
   "outputs": [],
   "source": [
    "filtered_sdf.limit(1)"
   ]
  },
  {
   "cell_type": "code",
   "execution_count": 22,
   "id": "d943244c",
   "metadata": {},
   "outputs": [],
   "source": [
    "final_sdf = sdf.drop(\"VendorID\",\"store_and_fwd_flag\",\"tpep_pickup_datetime\",\"tpep_dropoff_datetime\",\n",
    "                     \"payment_type\", \"extra\", \"mta_tax\", \"tip_amount\", \"total_amount\", \n",
    "                     \"improvement_surcharge\", \"congestion_surcharge\")"
   ]
  },
  {
   "cell_type": "code",
   "execution_count": 23,
   "id": "b37a1eff",
   "metadata": {},
   "outputs": [
    {
     "data": {
      "text/html": [
       "<table border='1'>\n",
       "<tr><th>passenger_count</th><th>trip_distance</th><th>RatecodeID</th><th>PULocationID</th><th>DOLocationID</th><th>fare_amount</th><th>tolls_amount</th><th>diff_hour</th><th>tip_pct</th><th>pickup_month</th><th>pickup_day_of_week</th><th>pickup_hour</th><th>dropoff_month</th><th>dropoff_day_of_week</th><th>dropoff_hour</th></tr>\n",
       "<tr><td>1</td><td>1.2</td><td>1</td><td>238</td><td>239</td><td>6.0</td><td>0.0</td><td>0.08</td><td>0.13043478260869565</td><td>1</td><td>4</td><td>0</td><td>1</td><td>4</td><td>0</td></tr>\n",
       "<tr><td>1</td><td>1.2</td><td>1</td><td>239</td><td>238</td><td>7.0</td><td>0.0</td><td>0.12361111111111112</td><td>0.12195121951219512</td><td>1</td><td>4</td><td>0</td><td>1</td><td>4</td><td>0</td></tr>\n",
       "<tr><td>1</td><td>0.6</td><td>1</td><td>238</td><td>238</td><td>6.0</td><td>0.0</td><td>0.10305555555555555</td><td>0.09259259259259259</td><td>1</td><td>4</td><td>0</td><td>1</td><td>4</td><td>0</td></tr>\n",
       "</table>\n"
      ],
      "text/plain": [
       "+---------------+-------------+----------+------------+------------+-----------+------------+-------------------+-------------------+------------+------------------+-----------+-------------+-------------------+------------+\n",
       "|passenger_count|trip_distance|RatecodeID|PULocationID|DOLocationID|fare_amount|tolls_amount|          diff_hour|            tip_pct|pickup_month|pickup_day_of_week|pickup_hour|dropoff_month|dropoff_day_of_week|dropoff_hour|\n",
       "+---------------+-------------+----------+------------+------------+-----------+------------+-------------------+-------------------+------------+------------------+-----------+-------------+-------------------+------------+\n",
       "|              1|          1.2|         1|         238|         239|        6.0|         0.0|               0.08|0.13043478260869565|           1|                 4|          0|            1|                  4|           0|\n",
       "|              1|          1.2|         1|         239|         238|        7.0|         0.0|0.12361111111111112|0.12195121951219512|           1|                 4|          0|            1|                  4|           0|\n",
       "|              1|          0.6|         1|         238|         238|        6.0|         0.0|0.10305555555555555|0.09259259259259259|           1|                 4|          0|            1|                  4|           0|\n",
       "+---------------+-------------+----------+------------+------------+-----------+------------+-------------------+-------------------+------------+------------------+-----------+-------------+-------------------+------------+"
      ]
     },
     "execution_count": 23,
     "metadata": {},
     "output_type": "execute_result"
    }
   ],
   "source": [
    "final_sdf.limit(3)"
   ]
  },
  {
   "cell_type": "markdown",
   "id": "d7ce1497",
   "metadata": {},
   "source": [
    "## Export as Pickled Pandas Dataframe"
   ]
  },
  {
   "cell_type": "code",
   "execution_count": 24,
   "id": "8eaaf803",
   "metadata": {},
   "outputs": [
    {
     "name": "stderr",
     "output_type": "stream",
     "text": [
      "                                                                                \r"
     ]
    }
   ],
   "source": [
    "final_df_1 = final_sdf.select([\"passenger_count\", \"trip_distance\", \"RatecodeID\", \n",
    "                             \"PULocationID\", \"DOLocationID\", \"fare_amount\"]).toPandas()"
   ]
  },
  {
   "cell_type": "code",
   "execution_count": 26,
   "id": "45457246",
   "metadata": {},
   "outputs": [
    {
     "name": "stderr",
     "output_type": "stream",
     "text": [
      "                                                                                \r"
     ]
    }
   ],
   "source": [
    "final_df_2 = final_sdf.select([\"tolls_amount\", \"diff_hour\", \"tip_pct\", \"pickup_month\", \n",
    "                               \"pickup_day_of_week\", \"pickup_hour\", \"dropoff_month\", \n",
    "                               \"dropoff_day_of_week\", \"dropoff_hour\"]).toPandas()"
   ]
  },
  {
   "cell_type": "code",
   "execution_count": 25,
   "id": "75f24adf",
   "metadata": {},
   "outputs": [],
   "source": [
    "final_df_1.to_pickle(\"../data/final_df_1_test.pkl\")"
   ]
  },
  {
   "cell_type": "code",
   "execution_count": 28,
   "id": "8104763d",
   "metadata": {},
   "outputs": [],
   "source": [
    "final_df_2.to_pickle(\"../data/final_df_2_test.pkl\")"
   ]
  }
 ],
 "metadata": {
  "kernelspec": {
   "display_name": "Python 3 (ipykernel)",
   "language": "python",
   "name": "python3"
  },
  "language_info": {
   "codemirror_mode": {
    "name": "ipython",
    "version": 3
   },
   "file_extension": ".py",
   "mimetype": "text/x-python",
   "name": "python",
   "nbconvert_exporter": "python",
   "pygments_lexer": "ipython3",
   "version": "3.8.10"
  }
 },
 "nbformat": 4,
 "nbformat_minor": 5
}
